{
 "cells": [
  {
   "cell_type": "code",
   "execution_count": null,
   "metadata": {},
   "outputs": [],
   "source": [
    "# Import the modules\n",
    "import numpy as np\n",
    "import pandas as pd\n",
    "import hvplot.pandas\n",
    "from pathlib import Path\n",
    "import matplotlib.pyplot as plt\n",
    "import seaborn as sns\n",
    "\n",
    "from sklearn.model_selection import train_test_split\n",
    "from sklearn.preprocessing import StandardScaler\n",
    "from sklearn.linear_model import LogisticRegression\n",
    "from sklearn.ensemble import RandomForestRegressor\n",
    "from sklearn.ensemble import GradientBoostingRegressor\n",
    "from sklearn.linear_model import LinearRegression\n",
    "from sklearn.metrics import mean_squared_error, r2_score\n",
    "from sklearn.model_selection import cross_val_score\n",
    "from sklearn.metrics import confusion_matrix, accuracy_score, classification_report"
   ]
  },
  {
   "cell_type": "markdown",
   "metadata": {},
   "source": [
    "# 1. ETL Workflow"
   ]
  },
  {
   "cell_type": "markdown",
   "metadata": {},
   "source": [
    "## Extract:"
   ]
  },
  {
   "cell_type": "code",
   "execution_count": null,
   "metadata": {},
   "outputs": [],
   "source": [
    "# Read in the CSV file as a Pandas DataFrame\n",
    "file_path = Path('dataset/spotify_youtube.csv')\n",
    "spotify_youtube_df = pd.read_csv(file_path)\n",
    "\n",
    "# # Display sample data\n",
    "spotify_youtube_df.head()"
   ]
  },
  {
   "cell_type": "markdown",
   "metadata": {},
   "source": [
    "## Transform:"
   ]
  },
  {
   "cell_type": "code",
   "execution_count": null,
   "metadata": {},
   "outputs": [],
   "source": [
    "# Drop unnecessary first row\n",
    "spotify_youtube_df = spotify_youtube_df.drop(spotify_youtube_df.columns[0], axis=1)\n",
    "\n",
    "# Check dataframe\n",
    "spotify_youtube_df.head() "
   ]
  },
  {
   "cell_type": "code",
   "execution_count": null,
   "metadata": {},
   "outputs": [],
   "source": [
    "# Convert column headers to lowercase for consistency and readability\n",
    "spotify_youtube_df.columns = spotify_youtube_df.columns.str.lower()\n",
    "\n",
    "# Check dataframe\n",
    "spotify_youtube_df.head()"
   ]
  },
  {
   "cell_type": "code",
   "execution_count": null,
   "metadata": {},
   "outputs": [],
   "source": [
    "# Engineer new features\n",
    "# Create engagement to measure total song activity\n",
    "spotify_youtube_df['engagement'] = spotify_youtube_df['views'] + spotify_youtube_df['stream']\n",
    "\n",
    "# Create content ratio to measure YouTube popularity for each song\n",
    "spotify_youtube_df['youtube popularity'] = spotify_youtube_df['likes'] / spotify_youtube_df['views']\n",
    "\n",
    "# Check dataframe\n",
    "spotify_youtube_df.head()"
   ]
  },
  {
   "cell_type": "code",
   "execution_count": null,
   "metadata": {},
   "outputs": [],
   "source": [
    "# Transform album_type, licensed, and official_video columns to numerical values for machine learning compatability\n",
    "# Replace values in 'album_type' with numerical representations\n",
    "spotify_youtube_df['album_type'] = spotify_youtube_df['album_type'].replace({'album': 0, 'single': 1, 'other': 2})\n",
    "\n",
    "# Convert 'licensed' and 'official_video' from boolean to integers\n",
    "# 1 = True (licensed/official video), 0 = False (not licensed/not official video)\n",
    "spotify_youtube_df['licensed'] = spotify_youtube_df['licensed'].fillna(0).astype(int)\n",
    "spotify_youtube_df['official_video'] = spotify_youtube_df['official_video'].fillna(0).astype(int)\n",
    "spotify_youtube_df"
   ]
  },
  {
   "cell_type": "code",
   "execution_count": null,
   "metadata": {},
   "outputs": [],
   "source": [
    "# Summary Statistics\n",
    "spotify_youtube_df.describe()"
   ]
  },
  {
   "cell_type": "markdown",
   "metadata": {},
   "source": [
    "Due to the counts of the different columns being different, we wish to eliminate any rows that may contain NaN values"
   ]
  },
  {
   "cell_type": "code",
   "execution_count": null,
   "metadata": {},
   "outputs": [],
   "source": [
    "spotify_youtube_df_cleaned = spotify_youtube_df.dropna(how='any')\n",
    "spotify_youtube_df_cleaned"
   ]
  },
  {
   "cell_type": "code",
   "execution_count": null,
   "metadata": {},
   "outputs": [],
   "source": [
    "spotify_youtube_df_cleaned.describe()"
   ]
  },
  {
   "cell_type": "markdown",
   "metadata": {},
   "source": [
    "Because of the large disparity in values between features, we have decided that we should scale the values in the millions down."
   ]
  },
  {
   "cell_type": "code",
   "execution_count": null,
   "metadata": {},
   "outputs": [],
   "source": [
    "# Isolate compatible columns\n",
    "feature_set = spotify_youtube_df_cleaned[['danceability', 'energy', 'key', 'loudness', 'speechiness', 'acousticness', 'instrumentalness', 'liveness', 'valence', 'tempo', 'duration_ms', 'views', 'likes', 'comments', 'licensed', 'official_video', 'stream', 'engagement', 'youtube popularity']]\n",
    "\n",
    "# Initialize scaler\n",
    "scaler = StandardScaler()\n",
    "\n",
    "# Scale values\n",
    "scaled_features = scaler.fit_transform(feature_set)\n",
    "scaled_df = pd.DataFrame(scaled_features, columns=feature_set.columns)\n",
    "scaled_df"
   ]
  },
  {
   "cell_type": "markdown",
   "metadata": {},
   "source": [
    "## EDA: Visualizations"
   ]
  },
  {
   "cell_type": "code",
   "execution_count": null,
   "metadata": {},
   "outputs": [],
   "source": [
    "# Plot histograms\n",
    "spotify_youtube_df_cleaned.hist(bins=30, figsize=(20, 15))\n",
    "plt.tight_layout()\n",
    "plt.show()"
   ]
  },
  {
   "cell_type": "code",
   "execution_count": null,
   "metadata": {},
   "outputs": [],
   "source": [
    "# Plot histograms\n",
    "scaled_df.hist(bins=30, figsize=(20, 15))\n",
    "plt.tight_layout()\n",
    "plt.show()"
   ]
  },
  {
   "cell_type": "markdown",
   "metadata": {},
   "source": [
    "### Correlation Heat Map"
   ]
  },
  {
   "cell_type": "code",
   "execution_count": null,
   "metadata": {},
   "outputs": [],
   "source": [
    "# Create a heatmap\n",
    "plt.figure(figsize=(12, 8))\n",
    "sns.heatmap(scaled_df.corr(), annot=True, fmt=\".2f\", cmap='coolwarm', cbar=True)\n",
    "plt.title('Heat Map with Correlation Values')\n",
    "plt.show()"
   ]
  },
  {
   "cell_type": "markdown",
   "metadata": {},
   "source": [
    "### Observations\n",
    "- Positive Correlations\n",
    "  - energy and loudness\n",
    "  - valnce and danceabiity\n",
    "- Negative Correlations\n",
    "  - acousticness and energy\n",
    "  - acousticness and loudness\n",
    "  - instrumentalness and loudness"
   ]
  },
  {
   "cell_type": "markdown",
   "metadata": {},
   "source": [
    "### Conclusions\n",
    "- We can combine features to avoid redundancy and overfitting:\n",
    "  - energy and loudness = power\n",
    "  - valence and danceability = uplift_factor"
   ]
  },
  {
   "cell_type": "code",
   "execution_count": null,
   "metadata": {},
   "outputs": [],
   "source": [
    "# Create scatter plot\n",
    "plt.figure(figsize=(10, 6))\n",
    "sizes = spotify_youtube_df_cleaned['likes'] / 10000  # Scale down 'likes' for better visualization\n",
    "\n",
    "plt.scatter(spotify_youtube_df_cleaned['stream'], spotify_youtube_df_cleaned['views'], alpha=0.5, label='Song Popularity') #s=sizes, alpha=0.5, label='Song Popularity')\n",
    "\n",
    "# Add trendline\n",
    "z = np.polyfit(spotify_youtube_df_cleaned['stream'], spotify_youtube_df_cleaned['views'], 1)\n",
    "p = np.poly1d(z)\n",
    "plt.plot(spotify_youtube_df_cleaned['stream'], p(spotify_youtube_df_cleaned['stream']), \"r--\", label=\"Trendline\")\n",
    "\n",
    "# Add labels and title\n",
    "plt.xlabel('Streams (Billions)')  # Label showing units in billions\n",
    "plt.ylabel('YouTube Views (Billions)')  # Label showing units in billions\n",
    "plt.title('Streams vs YouTube Views with Likes Represented by Size')\n",
    "plt.legend()\n",
    "\n",
    "# Add grid\n",
    "plt.grid(True)  # This adds a grid to the plot\n",
    "\n",
    "# Show plot\n",
    "plt.tight_layout()\n",
    "plt.show()"
   ]
  },
  {
   "cell_type": "markdown",
   "metadata": {},
   "source": [
    "### Outliers\n",
    "As we can see from this scatter plot, a few songs have view or stream counts much greater than the average song. This suggests that keeping these values could possibly skew the data. To correct this, we can either remove the outliers, or log transform the appropriate features."
   ]
  },
  {
   "cell_type": "code",
   "execution_count": null,
   "metadata": {},
   "outputs": [],
   "source": [
    "# Assuming 'spotify_youtube_df' is your DataFrame containing 'channel' and 'streams' columns\n",
    "# First, group by channel and sum their total streams\n",
    "channel_streams = spotify_youtube_df.groupby('channel')['stream'].sum().reset_index()\n",
    "\n",
    "# Sort the channels by the total streams in descending order and select the top 10\n",
    "top_10_channels = channel_streams.sort_values(by='stream', ascending=False).head(10)\n",
    "\n",
    "# Calculate the percentage of total streams for each of the top 10 channels\n",
    "total_streams = spotify_youtube_df['stream'].sum()\n",
    "top_10_channels['percent_of_total'] = (top_10_channels['stream'] / total_streams) * 100\n",
    "\n",
    "# Plot the bar chart\n",
    "plt.figure(figsize=(10, 6))\n",
    "plt.barh(top_10_channels['channel'], top_10_channels['percent_of_total'], color='skyblue')\n",
    "plt.xlabel('Percentage of Total Streams')\n",
    "plt.ylabel('Channel')\n",
    "plt.title('Top 10 Most Popular Channels by Streams and Their Share of Total Streams')\n",
    "plt.gca().invert_yaxis()  # Invert y-axis so that the highest value is at the top\n",
    "\n",
    "# Add percentage labels to each bar\n",
    "for index, value in enumerate(top_10_channels['percent_of_total']):\n",
    "    plt.text(value + 0.5, index, f\"{value:.2f}%\", va='center')\n",
    "\n",
    "plt.tight_layout()\n",
    "plt.show()"
   ]
  },
  {
   "cell_type": "code",
   "execution_count": null,
   "metadata": {},
   "outputs": [],
   "source": [
    "# Assuming 'spotify_youtube_df' is your DataFrame containing 'artist' and 'stream' columns\n",
    "# First, group by artist and sum their total streams\n",
    "artist_streams = spotify_youtube_df.groupby('artist')['stream'].sum().reset_index()\n",
    "\n",
    "# Sort the artists by the total streams in descending order and select the top 10\n",
    "top_10_artists = artist_streams.sort_values(by='stream', ascending=False).head(10)\n",
    "\n",
    "# Calculate the percentage of total streams for each of the top 10 artists\n",
    "total_streams = spotify_youtube_df['stream'].sum()\n",
    "top_10_artists['percent_of_total'] = (top_10_artists['stream'] / total_streams) * 100\n",
    "\n",
    "# Plot the bar chart\n",
    "plt.figure(figsize=(10, 6))\n",
    "plt.barh(top_10_artists['artist'], top_10_artists['percent_of_total'], color='lightgreen')\n",
    "plt.xlabel('Percentage of Total Streams')\n",
    "plt.ylabel('Artist')\n",
    "plt.title('Top 10 Most Popular Artists by Streams and Their Share of Total Streams')\n",
    "plt.gca().invert_yaxis()  # Invert y-axis so that the highest value is at the top\n",
    "\n",
    "# Add percentage labels to each bar\n",
    "for index, value in enumerate(top_10_artists['percent_of_total']):\n",
    "    plt.text(value + 0.5, index, f\"{value:.2f}%\", va='center')\n",
    "\n",
    "plt.tight_layout()\n",
    "plt.show()"
   ]
  },
  {
   "cell_type": "markdown",
   "metadata": {},
   "source": [
    "## Feature Engineering\n",
    "\n",
    "Creating new features `power` and `uplift_factor` as averages of existing features."
   ]
  },
  {
   "cell_type": "code",
   "execution_count": null,
   "metadata": {},
   "outputs": [],
   "source": [
    "# Create new features\n",
    "spotify_youtube_df_cleaned['power'] = (spotify_youtube_df_cleaned['energy'] + spotify_youtube_df_cleaned['loudness']) / 2\n",
    "spotify_youtube_df_cleaned['uplift_factor'] = (spotify_youtube_df_cleaned['valence'] + spotify_youtube_df_cleaned['danceability']) / 2"
   ]
  },
  {
   "cell_type": "markdown",
   "metadata": {},
   "source": [
    "# Models"
   ]
  },
  {
   "cell_type": "code",
   "execution_count": null,
   "metadata": {},
   "outputs": [],
   "source": [
    "# Assume df is your DataFrame and 'target' is your target variable\n",
    "X = spotify_youtube_df_cleaned[['danceability', 'energy', 'key', 'loudness', 'speechiness', 'acousticness', 'instrumentalness', 'liveness', 'valence', 'tempo', 'duration_ms']]  # Replace with your actual feature names\n",
    "y = spotify_youtube_df_cleaned['engagement']  # Replace with your actual target variable"
   ]
  },
  {
   "cell_type": "code",
   "execution_count": null,
   "metadata": {},
   "outputs": [],
   "source": [
    "# Split the data\n",
    "X_train, X_test, y_train, y_test = train_test_split(X, y, test_size=0.2, random_state=42)"
   ]
  },
  {
   "cell_type": "code",
   "execution_count": null,
   "metadata": {},
   "outputs": [],
   "source": []
  },
  {
   "cell_type": "code",
   "execution_count": null,
   "metadata": {},
   "outputs": [],
   "source": [
    "# Scale the features\n",
    "scaler = StandardScaler()\n",
    "X_train = scaler.fit_transform(X_train)\n",
    "X_test = scaler.transform(X_test)"
   ]
  },
  {
   "cell_type": "markdown",
   "metadata": {},
   "source": [
    "## Model 1: Linear Regression"
   ]
  },
  {
   "cell_type": "code",
   "execution_count": null,
   "metadata": {},
   "outputs": [],
   "source": [
    "# Create a linear regression model and fit it to the training data.\n",
    "model = LinearRegression()\n",
    "model.fit(X_train, y_train)\n",
    "\n",
    "# Use the model to make predictions on the testing data.\n",
    "y_pred = model.predict(X_test)\n",
    "\n",
    "#Evaluate the model's performance using metrics like Mean Squared Error (MSE) and R-squared.\n",
    "mse = mean_squared_error(y_test, y_pred)\n",
    "r2 = r2_score(y_test, y_pred)\n",
    "\n",
    "print(f'Mean Squared Error: {mse}')\n",
    "print(f'R-squared: {r2}')"
   ]
  },
  {
   "cell_type": "code",
   "execution_count": null,
   "metadata": {},
   "outputs": [],
   "source": [
    "#Visualize the Results\n",
    "'''\n",
    "plt.scatter(X_test['feature1'], y_test, color='blue')\n",
    "plt.scatter(X_test['feature1'], y_pred, color='red')\n",
    "plt.plot(X_test['feature1'], y_pred, color='green')\n",
    "plt.xlabel('Feature 1')\n",
    "plt.ylabel('Target')\n",
    "plt.title('Linear Regression Results')\n",
    "plt.show()\n",
    "'''"
   ]
  },
  {
   "cell_type": "code",
   "execution_count": null,
   "metadata": {},
   "outputs": [],
   "source": [
    "from youtubesearchpython import VideosSearch, ResultMode, Video\n",
    "from tqdm.notebook import tqdm\n",
    "import datetime\n",
    "import pprint as pp\n",
    "\n",
    "def getUploadDate(url):\n",
    "    video = Video.getInfo(url, mode = ResultMode.json)\n",
    "    #pp.pprint(video)\n",
    "    return video['uploadDate'][:10]\n",
    "\n",
    "#tqdm.pandas()\n",
    "\n",
    "spotify_youtube_df_cleaned_noerror = spotify_youtube_df_cleaned.copy()\n",
    "video_dates_df = pd.DataFrame()\n",
    "bad_rows = []\n",
    "\n",
    "for i, row in tqdm(spotify_youtube_df_cleaned_noerror.iterrows(), total=spotify_youtube_df_cleaned_noerror.shape[0]):\n",
    "    try:\n",
    "        getUploadDate(row.iloc[0])\n",
    "    except TypeError:\n",
    "        bad_rows.append(i)\n",
    "        continue\n",
    "    else:\n",
    "        continue   \n",
    "\n",
    "spotify_youtube_df_cleaned_noerror = spotify_youtube_df_cleaned_noerror.drop(bad_rows)\n",
    "\n",
    "video_dates_df['id'] = spotify_youtube_df_cleaned['url_youtube'].apply(lambda s: s[-11:])\n",
    "\n",
    "video_dates_df['id'] = video_dates_df['id'].astype(str)\n",
    "\n",
    "#spotify_youtube_df_cleaned['url_youtube'][1][-11:]\n",
    "pp.pprint(video_dates_df)\n",
    "\n",
    "video_dates_df.to_csv(\"./debug/video_dates_df.csv\")\n",
    "\n",
    "#for i, row in video_dates_df.iterrows():\n",
    "\n",
    "#video_dates_df.isnull()\n",
    "#spotify_youtube_df_cleaned.isnull()\n",
    "#video_dates_df[\"upload_date\"] = video_dates_df['url'].progress_apply(getUploadDate)\n",
    "'''\n",
    "for i, row in video_dates_df.iterrows():\n",
    "    try:    \n",
    "        print(f'Row: {i}: {row}')\n",
    "    except:\n",
    "        bad_rows.append(i)\n",
    "    else:\n",
    "        print(getUploadDate(row.iloc[0]))\n",
    "'''"
   ]
  },
  {
   "cell_type": "code",
   "execution_count": null,
   "metadata": {},
   "outputs": [],
   "source": [
    "'''\n",
    "spotify_youtube_df\n",
    "\n",
    "import pandas as pd\n",
    "import spotipy\n",
    "from spotipy.oauth2 import SpotifyClientCredentials\n",
    "from tqdm.notebook import tqdm\n",
    "\n",
    "client_cred_manager = SpotifyClientCredentials(client_id=\"f7f9bbcca80343a3a9f48cd4f8e8ba28\",\n",
    "                                               client_secret=\"6588e909ab9a4fab97b7f37a4fb8987b\")\n",
    "\n",
    "sp = spotipy.Spotify(client_credentials_manager=client_cred_manager)\n",
    "\n",
    "spotify_youtube_df['track_id'] = spotify_youtube_df['uri'].apply(lambda s: s.split(':')[-1])\n",
    "spotify_youtube_df.head(3)\n",
    "\n",
    "def get_release_date(track_id):\n",
    "    #print(f\"getting info for {track_id}\")\n",
    "    track_info = sp.track(track_id)\n",
    "    release_date = track_info['album']['release_date']\n",
    "    #print(release_date)\n",
    "    return release_date\n",
    "\n",
    "tqdm.pandas()\n",
    "\n",
    "# printing to stdout during lookup too slow, progress bar used instead\n",
    "spotify_youtube_df['release_date'] = spotify_youtube_df['track_id'].progress_apply(get_release_date)\n",
    "'''"
   ]
  }
 ],
 "metadata": {
  "kernelspec": {
   "display_name": "Python 3 (ipykernel)",
   "language": "python",
   "name": "python3"
  },
  "language_info": {
   "codemirror_mode": {
    "name": "ipython",
    "version": 3
   },
   "file_extension": ".py",
   "mimetype": "text/x-python",
   "name": "python",
   "nbconvert_exporter": "python",
   "pygments_lexer": "ipython3",
   "version": "3.12.4"
  }
 },
 "nbformat": 4,
 "nbformat_minor": 4
}
